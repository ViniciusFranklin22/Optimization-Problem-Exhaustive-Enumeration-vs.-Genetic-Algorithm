{
  "cells": [
    {
      "cell_type": "code",
      "execution_count": null,
      "metadata": {
        "colab": {
          "background_save": true,
          "base_uri": "https://localhost:8080/"
        },
        "id": "BY-awauLGfwi",
        "outputId": "ea858661-6cda-4b4a-aa35-537a1ad1ec68"
      },
      "outputs": [
        {
          "name": "stdout",
          "output_type": "stream",
          "text": [
            "Collecting pulp\n",
            "  Downloading PuLP-2.8.0-py3-none-any.whl (17.7 MB)\n",
            "\u001b[2K     \u001b[90m━━━━━━━━━━━━━━━━━━━━━━━━━━━━━━━━━━━━━━━━\u001b[0m \u001b[32m17.7/17.7 MB\u001b[0m \u001b[31m38.8 MB/s\u001b[0m eta \u001b[36m0:00:00\u001b[0m\n",
            "\u001b[?25hInstalling collected packages: pulp\n",
            "Successfully installed pulp-2.8.0\n"
          ]
        }
      ],
      "source": [
        "pip install pulp"
      ]
    },
    {
      "cell_type": "code",
      "execution_count": null,
      "metadata": {
        "id": "RrSWOHvoCoha"
      },
      "outputs": [],
      "source": [
        "x = [i for i in range(0,20)]\n",
        "k = 5\n",
        "c =[5,10,7,8,6,9,12,15,20,17,3,11,14,18,4,16,19,13,2,1]\n",
        "r =[10,15,9,14,11,13,20,25,30,28,8,17,22,26,12,24,27,19,7,5]\n",
        "capacidade = 16\n",
        "raiz_capacidade = 16**(1/2)\n",
        "b = 50"
      ]
    },
    {
      "cell_type": "code",
      "execution_count": null,
      "metadata": {
        "id": "HchnnflOEz8s"
      },
      "outputs": [],
      "source": [
        "def fob(var):\n",
        "  value = 0\n",
        "  for i in range(0,20):\n",
        "    value += r[i]*var[i]\n",
        "  return -value\n",
        "\n",
        "def restricao_1(var):\n",
        "  value = 0\n",
        "  for i in range(0,20):\n",
        "    value += var[i]\n",
        "  return value\n",
        "\n",
        "def restricao_2(var):\n",
        "  value = 0\n",
        "  for i in range(0,20):\n",
        "    value += var[i]\n",
        "  return value\n",
        "\n",
        "def restricao_3(var):\n",
        "  value = 0\n",
        "  for i in range(0,20):\n",
        "    value += var[i]*c[i]\n",
        "  return value\n",
        "\n"
      ]
    },
    {
      "cell_type": "code",
      "execution_count": null,
      "metadata": {
        "colab": {
          "base_uri": "https://localhost:8080/"
        },
        "id": "FVZKMGdzG0p2",
        "outputId": "dc9ff46d-e1fc-426f-e948-6b62d4b3f432"
      },
      "outputs": [
        {
          "output_type": "stream",
          "name": "stdout",
          "text": [
            "Status: Optimal\n",
            "Valor Ótimo: 87.0\n",
            "\n",
            "[0.0, 0.0, 0.0, 0.0, 0.0, 0.0, 0.0, 1.0, 0.0, 1.0, 0.0, 0.0, 1.0, 0.0, 1.0, 0.0, 0.0, 0.0, 0.0, 0.0]\n",
            "O Investimento 1 Não será Utilizado\n",
            "\n",
            "O Investimento 2 Não será Utilizado\n",
            "\n",
            "O Investimento 3 Não será Utilizado\n",
            "\n",
            "O Investimento 4 Não será Utilizado\n",
            "\n",
            "O Investimento 5 Não será Utilizado\n",
            "\n",
            "O Investimento 6 Não será Utilizado\n",
            "\n",
            "O Investimento 7 Não será Utilizado\n",
            "\n",
            "O Investimento 8 Será Utilizado\n",
            "\n",
            "O Investimento 9 Não será Utilizado\n",
            "\n",
            "O Investimento 10 Será Utilizado\n",
            "\n",
            "O Investimento 11 Não será Utilizado\n",
            "\n",
            "O Investimento 12 Não será Utilizado\n",
            "\n",
            "O Investimento 13 Será Utilizado\n",
            "\n",
            "O Investimento 14 Não será Utilizado\n",
            "\n",
            "O Investimento 15 Será Utilizado\n",
            "\n",
            "O Investimento 16 Não será Utilizado\n",
            "\n",
            "O Investimento 17 Não será Utilizado\n",
            "\n",
            "O Investimento 18 Não será Utilizado\n",
            "\n",
            "O Investimento 19 Não será Utilizado\n",
            "\n",
            "O Investimento 20 Não será Utilizado\n",
            "\n",
            "Serão utilizados 4 investimentos\n",
            "\n"
          ]
        },
        {
          "output_type": "stream",
          "name": "stderr",
          "text": [
            "/usr/local/lib/python3.10/dist-packages/pulp/pulp.py:1316: UserWarning: Spaces are not permitted in the name. Converted to '_'\n",
            "  warnings.warn(\"Spaces are not permitted in the name. Converted to '_'\")\n"
          ]
        }
      ],
      "source": [
        "###https://coin-or.github.io/pulp/main/includeme.html\n",
        "\n",
        "\n",
        "import pulp\n",
        "\n",
        "prob = pulp.LpProblem(\"Análise de Investimento\", pulp.LpMinimize)\n",
        "\n",
        "for i in range(0,20):\n",
        "  x[i] = pulp.LpVariable(f'x{i+1}', 0, 1, cat='Integer')\n",
        "\n",
        "\n",
        "\n",
        "prob += fob(x)\n",
        "prob += restricao_1(x)<=k\n",
        "prob += restricao_2(x)<=raiz_capacidade\n",
        "prob += restricao_3(x)<=b\n",
        "prob.solve()\n",
        "print(\"Status:\", pulp.LpStatus[prob.status])\n",
        "valor_otimo = -1*pulp.value(prob.objective)\n",
        "\n",
        "print(f'Valor Ótimo: {valor_otimo}\\n')\n",
        "result_var = []\n",
        "for i in range(0,20):\n",
        "  result_var.append(pulp.value(x[i]))\n",
        "cont = 0\n",
        "print(result_var)\n",
        "for i,j in enumerate(result_var):\n",
        "  status = status = 'Será Utilizado' if j == 1 else \"Não será Utilizado\"\n",
        "  print(f'O Investimento {i+1} {status}\\n')\n",
        "  if j == 1:\n",
        "    cont += 1\n",
        "print(f'Serão utilizados {cont} investimentos\\n')"
      ]
    },
    {
      "cell_type": "code",
      "execution_count": null,
      "metadata": {
        "colab": {
          "base_uri": "https://localhost:8080/"
        },
        "id": "YE8uCZWlIjVq",
        "outputId": "64a67d84-b666-474e-98ce-eb03911a5afd"
      },
      "outputs": [
        {
          "output_type": "stream",
          "name": "stdout",
          "text": [
            "Valor Máximo = 87\n"
          ]
        }
      ],
      "source": [
        "import random\n",
        "import numpy as np\n",
        "import math\n",
        "\n",
        "tamanho_pop = 1000\n",
        "num_max_ger = 40\n",
        "prevalencia = 180\n",
        "tx_lider = 0.001\n",
        "taxa_mutacao = 0.02\n",
        "penal = 3\n",
        "\n",
        "def sorteia_individuo(n):\n",
        "  individuo = []\n",
        "  for i in range(0,n):\n",
        "    individuo.append(random.randint(0,1))\n",
        "  return individuo\n",
        "\n",
        "def fitness_func(ind):\n",
        "  retorno = -fob(ind)\n",
        "  if restricao_1(ind)>k:\n",
        "    retorno = retorno/penal\n",
        "  if restricao_2(ind)>raiz_capacidade:\n",
        "    retorno = retorno/penal\n",
        "  if restricao_3(ind)>b:\n",
        "    retorno = retorno/penal\n",
        "  return retorno\n",
        "\n",
        "def reproducao(m):\n",
        "  pro = []\n",
        "  n = list(m)[:]\n",
        "  q = list(m)[:]\n",
        "  for i in range(1,math.ceil(tamanho_pop*tx_lider+1)):\n",
        "    pro.append(list(n[-i]))\n",
        "\n",
        "  while len(n)>1:\n",
        "    aleat_1 = random.randint(0,len(n)-1)\n",
        "    aleat_2 = random.randint(0,len(n)-1)\n",
        "    pai = list(n[aleat_1])\n",
        "    mae = list(n[aleat_2])\n",
        "    fator_comb = random.randint(1,len(pai)-2)\n",
        "    filho_1 = pai[0:fator_comb]+mae[fator_comb:]\n",
        "    filho_2 = mae[0:fator_comb]+pai[fator_comb:]\n",
        "    pro.append(filho_1)\n",
        "    pro.append(filho_2)\n",
        "    if pai!=mae:\n",
        "      n.pop(aleat_1)\n",
        "      if aleat_1>aleat_2:\n",
        "        n.pop(aleat_2)\n",
        "      else:\n",
        "        n.pop(aleat_2-1)\n",
        "    else:\n",
        "      n.pop(aleat_2)\n",
        "  for i in range(0,tamanho_pop-len(pro)):\n",
        "    pai = list(q[random.randint(0,len(q)-1)])\n",
        "    mae = list(q[random.randint(0,len(q)-1)])\n",
        "    fator_comb = random.randint(1,len(pai)-2)\n",
        "    filho = pai[0:fator_comb]+mae[fator_comb:]\n",
        "    pro.append(filho)\n",
        "\n",
        "  return pro\n",
        "\n",
        "def mutacao(populacao, taxa_mutacao):\n",
        "    nova_populacao = []\n",
        "    for individuo in populacao:\n",
        "        novo_individuo = individuo[:]\n",
        "        if random.random() < taxa_mutacao:\n",
        "          for i in range(len(novo_individuo)):\n",
        "              if random.random() < taxa_mutacao:\n",
        "                  novo_individuo[i] = 1 - novo_individuo[i]\n",
        "        nova_populacao.append(novo_individuo)\n",
        "    return nova_populacao\n",
        "\n",
        "populacao = []\n",
        "for i in range(0,tamanho_pop):\n",
        "  populacao.append(sorteia_individuo(20))\n",
        "\n",
        "cont_ger = 1\n",
        "\n",
        "while cont_ger<=num_max_ger:\n",
        "  retornos= []\n",
        "  for i in range(0,tamanho_pop):\n",
        "    retornos.append(fitness_func(populacao[i]))\n",
        "\n",
        "  index_order = np.argsort(retornos)\n",
        "  returns_in_order = np.array(retornos)[index_order]\n",
        "  melhores = np.array(populacao)[index_order[-prevalencia:]]\n",
        "  nv_pop = reproducao(melhores)\n",
        "  nv_pop = mutacao(nv_pop,taxa_mutacao=taxa_mutacao)\n",
        "  populacao = nv_pop\n",
        "\n",
        "  cont_ger+=1\n",
        "print(f'Valor Máximo = {max(retornos)}')\n",
        "## tem hora que vai para 84 e tem hora que vai para 87\n",
        "## a taxa de mutacao esta jogando os numero apenas para baixo pelo visto\n",
        "\n"
      ]
    },
    {
      "cell_type": "code",
      "source": [],
      "metadata": {
        "id": "-LIzI1Sk-CGW"
      },
      "execution_count": null,
      "outputs": []
    }
  ],
  "metadata": {
    "colab": {
      "provenance": []
    },
    "kernelspec": {
      "display_name": "Python 3",
      "name": "python3"
    },
    "language_info": {
      "name": "python"
    }
  },
  "nbformat": 4,
  "nbformat_minor": 0
}